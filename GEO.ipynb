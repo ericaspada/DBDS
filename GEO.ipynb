{
 "cells": [
  {
   "cell_type": "code",
   "execution_count": 30,
   "metadata": {},
   "outputs": [],
   "source": [
    "import pandas as pd\n",
    "import numpy as np\n",
    "import glob\n",
    "import os"
   ]
  },
  {
   "cell_type": "code",
   "execution_count": 173,
   "metadata": {},
   "outputs": [],
   "source": [
    "# read in the summary file, skipping the first 9 rows which contain document-level notes\n",
    "summary = pd.read_csv('/Users/ericaspada/Desktop/classes/Database systems/E-GEOD-47962.sdrf.rtf',\n",
    "                   skiprows=9,\n",
    "                  sep='\\t')\n",
    "\n",
    "# column 'Derived Array Data File' corresponds to the individual data files in E-GEOD-47962\n",
    "\n",
    "# read the filenames and filenames with full path from the folder E-GEOD-47962\n",
    "filenames = os.listdir('/Users/ericaspada/Desktop/classes/Database systems/E-GEOD-47962')\n",
    "filenames_path = glob.glob('/Users/ericaspada/Desktop/classes/Database systems/E-GEOD-47962/*txt')\n",
    "\n",
    "filenames.remove('.DS_Store')\n",
    "\n",
    "# iterate through the files in E-GEOD-47962\n",
    "# transpose the dataframes and append them to a list of dataframes\n",
    "dfs = []\n",
    "for i in filenames_path:\n",
    "    df = pd.read_csv(i,sep='\\t')\n",
    "    df.name = i\n",
    "    df.set_index('Reporter Identifier')\n",
    "    df = df.transpose()\n",
    "    df.columns = df.iloc[0]\n",
    "    df = df[1:]\n",
    "    dfs.append(df)\n",
    "\n",
    "# iterate through the list of dataframes and append the rows to the first\n",
    "df_master = dfs[0]\n",
    "for i in dfs[1:]:\n",
    "    df_master = df_master.append(i)\n",
    "\n",
    "# add a column for the filenames\n",
    "df_master['filename'] = filenames\n",
    "\n",
    "# merge the summary dataframe with df_master on the filename\n",
    "combined = summary.merge(df_master, how='left', left_on='Derived Array Data File', right_on='filename')"
   ]
  },
  {
   "cell_type": "code",
   "execution_count": 176,
   "metadata": {},
   "outputs": [],
   "source": [
    "# write combined df to text file\n",
    "with open('/Users/ericaspada/Desktop/classes/Database systems/E-GEOD-47962/combined.txt','w') as outfile:\n",
    "    combined.to_string(outfile)\n",
    "    \n",
    "# and to csv\n",
    "with open('/Users/ericaspada/Desktop/classes/Database systems/E-GEOD-47962/combined.csv','w') as outfile:\n",
    "    combined.to_csv(outfile, sep=',')"
   ]
  },
  {
   "cell_type": "code",
   "execution_count": null,
   "metadata": {},
   "outputs": [],
   "source": []
  }
 ],
 "metadata": {
  "kernelspec": {
   "display_name": "Python 3",
   "language": "python",
   "name": "python3"
  },
  "language_info": {
   "codemirror_mode": {
    "name": "ipython",
    "version": 3
   },
   "file_extension": ".py",
   "mimetype": "text/x-python",
   "name": "python",
   "nbconvert_exporter": "python",
   "pygments_lexer": "ipython3",
   "version": "3.7.4"
  }
 },
 "nbformat": 4,
 "nbformat_minor": 4
}
